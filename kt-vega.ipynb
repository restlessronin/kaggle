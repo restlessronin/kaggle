{
 "cells": [
  {
   "cell_type": "markdown",
   "id": "cda3b004",
   "metadata": {},
   "source": [
    "# Vega-Lite Chart in Kotlin Jupyter Notebook\n",
    "\n",
    "This is a basic working example for Vega Lite charts.\n",
    "\n",
    "Example is taken straight from https://vega.github.io/vega-lite/usage/embed.html#start-using-vega-lite-with-vega-embed. Instead of `script` tags in the HTML header, we use `requirejs` in javascript.\n",
    "\n",
    "The code in the following cell is adapted from https://stackoverflow.com/a/61161362."
   ]
  },
  {
   "cell_type": "code",
   "execution_count": 1,
   "id": "e75734df",
   "metadata": {},
   "outputs": [],
   "source": [
    "val includeJS = \"\"\"\n",
    "<script>\n",
    "requirejs.config({\n",
    "  baseUrl: 'https://cdn.jsdelivr.net/npm/',\n",
    "  paths: {\n",
    "    \"vega-embed\": \"vega-embed@6?noext\",\n",
    "    \"vega-lite\": \"vega-lite@5?noext\",\n",
    "    \"vega\": \"vega@5?noext\"\n",
    "  }\n",
    "});\n",
    "\n",
    "requirejs([\"vega\", \"vega-embed\"], function(vega, vegaEmbed) {\n",
    "    console.log(vega.version);\n",
    "    console.log(vegaEmbed.version);\n",
    "    window.vegaEmbed=vegaEmbed;\n",
    "    window.vega = vega;});\n",
    "</script>\n",
    "\"\"\""
   ]
  },
  {
   "cell_type": "markdown",
   "id": "0d6784d4",
   "metadata": {},
   "source": [
    "We then include a `div` element to hold the vega chart"
   ]
  },
  {
   "cell_type": "code",
   "execution_count": 2,
   "id": "23406600",
   "metadata": {},
   "outputs": [],
   "source": [
    "val divElement = \"\"\"\n",
    "<div id=\"vis\"></div>\n",
    "\"\"\""
   ]
  },
  {
   "cell_type": "markdown",
   "id": "f223e70b",
   "metadata": {},
   "source": [
    "and then finally a vega-lite spec and a call to create the spec in the created element"
   ]
  },
  {
   "cell_type": "code",
   "execution_count": 3,
   "id": "6b3e040a",
   "metadata": {},
   "outputs": [],
   "source": [
    "val vlSpecDisplay = \"\"\"\n",
    "<script type=\"text/javascript\">\n",
    "var yourVlSpec = {\n",
    "    ${'$'}schema: 'https://vega.github.io/schema/vega-lite/v5.json',\n",
    "    description: 'A simple bar chart with embedded data.',\n",
    "    data: {\n",
    "        values: [\n",
    "            {a: 'A', b: 28},\n",
    "            {a: 'B', b: 55},\n",
    "            {a: 'C', b: 43},\n",
    "            {a: 'D', b: 91},\n",
    "            {a: 'E', b: 81},\n",
    "            {a: 'F', b: 53},\n",
    "            {a: 'G', b: 19},\n",
    "            {a: 'H', b: 87},\n",
    "            {a: 'I', b: 52}\n",
    "        ]\n",
    "    },\n",
    "    mark: 'bar',\n",
    "    encoding: {\n",
    "        x: {field: 'a', type: 'ordinal'},\n",
    "        y: {field: 'b', type: 'quantitative'}\n",
    "    }\n",
    "    };\n",
    "vegaEmbed('#vis', yourVlSpec);\n",
    "</script>\n",
    "\"\"\""
   ]
  },
  {
   "cell_type": "markdown",
   "id": "4cbd85fd",
   "metadata": {},
   "source": [
    "Finally, we can display the chart as follows"
   ]
  },
  {
   "cell_type": "code",
   "execution_count": 5,
   "id": "91e410db",
   "metadata": {},
   "outputs": [
    {
     "data": {
      "text/html": [
       "\n",
       "<script>\n",
       "requirejs.config({\n",
       "  baseUrl: 'https://cdn.jsdelivr.net/npm/',\n",
       "  paths: {\n",
       "    \"vega-embed\": \"vega-embed@6?noext\",\n",
       "    \"vega-lite\": \"vega-lite@5?noext\",\n",
       "    \"vega\": \"vega@5?noext\"\n",
       "  }\n",
       "});\n",
       "\n",
       "requirejs([\"vega\", \"vega-embed\"], function(vega, vegaEmbed) {\n",
       "    console.log(vega.version);\n",
       "    console.log(vegaEmbed.version);\n",
       "    window.vegaEmbed=vegaEmbed;\n",
       "    window.vega = vega;});\n",
       "</script>\n",
       "\n",
       "<div id=\"vis\"></div>\n",
       "\n",
       "<script type=\"text/javascript\">\n",
       "var yourVlSpec = {\n",
       "    $schema: 'https://vega.github.io/schema/vega-lite/v5.json',\n",
       "    description: 'A simple bar chart with embedded data.',\n",
       "    data: {\n",
       "        values: [\n",
       "            {a: 'A', b: 28},\n",
       "            {a: 'B', b: 55},\n",
       "            {a: 'C', b: 43},\n",
       "            {a: 'D', b: 91},\n",
       "            {a: 'E', b: 81},\n",
       "            {a: 'F', b: 53},\n",
       "            {a: 'G', b: 19},\n",
       "            {a: 'H', b: 87},\n",
       "            {a: 'I', b: 52}\n",
       "        ]\n",
       "    },\n",
       "    mark: 'bar',\n",
       "    encoding: {\n",
       "        x: {field: 'a', type: 'ordinal'},\n",
       "        y: {field: 'b', type: 'quantitative'}\n",
       "    }\n",
       "    };\n",
       "vegaEmbed('#vis', yourVlSpec);\n",
       "</script>\n"
      ]
     },
     "execution_count": 5,
     "metadata": {},
     "output_type": "execute_result"
    }
   ],
   "source": [
    "HTML(includeJS + divElement + vlSpecDisplay)"
   ]
  }
 ],
 "metadata": {
  "kernelspec": {
   "display_name": "Kotlin",
   "language": "kotlin",
   "name": "kotlin"
  },
  "language_info": {
   "codemirror_mode": "text/x-kotlin",
   "file_extension": ".kt",
   "mimetype": "text/x-kotlin",
   "name": "kotlin",
   "nbconvert_exporter": "",
   "pygments_lexer": "kotlin",
   "version": "1.8.0-RC"
  }
 },
 "nbformat": 4,
 "nbformat_minor": 5
}
