{
  "cells": [
    {
      "cell_type": "markdown",
      "metadata": {
        "id": "oxF3T0hRc_yY"
      },
      "source": [
        "# Sample code to get started on colab"
      ]
    },
    {
      "cell_type": "code",
      "source": [
        "!pip install -q condacolab\n",
        "import condacolab\n",
        "condacolab.install_anaconda()"
      ],
      "metadata": {
        "id": "7KpdG5B3mFAu"
      },
      "execution_count": null,
      "outputs": []
    },
    {
      "cell_type": "code",
      "source": [
        "import condacolab\n",
        "condacolab.check()"
      ],
      "metadata": {
        "id": "22-5VjALdl52"
      },
      "execution_count": null,
      "outputs": []
    },
    {
      "cell_type": "code",
      "source": [
        "from google.colab import drive\n",
        "drive.mount('/content/drive')"
      ],
      "metadata": {
        "id": "1GzYj7h2w7bK"
      },
      "execution_count": null,
      "outputs": []
    },
    {
      "cell_type": "code",
      "execution_count": null,
      "metadata": {
        "id": "OneOUJuoc_ya"
      },
      "outputs": [],
      "source": [
        "import os, sys, subprocess,time\n",
        "import glob\n",
        "\n",
        "import pandas as pd\n",
        "import numpy as np\n",
        "\n",
        "from shapely.ops import unary_union, polygonize\n",
        "from shapely.geometry import Polygon\n",
        "from sklearn.cluster import DBSCAN\n",
        "\n",
        "from shapely.affinity import rotate\n",
        "from shapely.geometry import LineString, Point, MultiPolygon,MultiLineString \n",
        "from shapely.ops import unary_union, polygonize\n",
        "import shapely.wkt\n",
        "\n",
        "import geopandas as gpd\n",
        "from pyproj import CRS\n",
        "from rtree import index\n",
        "import rasterio\n",
        "#import rasterstats as rs\n",
        "from geopandas import overlay\n",
        "\n"
      ]
    },
    {
      "cell_type": "code",
      "source": [
        "def read_shape_UT(fname):\n",
        "  return gpd.read_file('/content/drive/MyDrive/LiLa_Nagapattinam/Practice' + fname).to_crs(epsg = 4326)"
      ],
      "metadata": {
        "id": "ybA-9tdE0vat"
      },
      "execution_count": 8,
      "outputs": []
    },
    {
      "cell_type": "code",
      "source": [
        "shapeN = read_shape_UT('/Nagapattinam_proj32644.shp')\n",
        "shapeTN = read_shape_UT('/water_TN.shp')\n",
        "intersection_shape = overlay(shapeN, shapeTN, how='intersection')\n",
        "\n",
        "print(intersection_shape.shape)\n",
        "intersection_shape.plot(cmap='Accent')"
      ],
      "metadata": {
        "id": "B-B_fjze1jc4"
      },
      "execution_count": null,
      "outputs": []
    }
  ],
  "metadata": {
    "kernelspec": {
      "display_name": "Python 3.10.4 ('fastai')",
      "language": "python",
      "name": "python3"
    },
    "language_info": {
      "name": "python",
      "version": "3.10.4"
    },
    "orig_nbformat": 4,
    "vscode": {
      "interpreter": {
        "hash": "4b6371f9b180b180e3c0fc2dc539c52593b72b3e75aed3593bd0a5845eb81bd2"
      }
    },
    "colab": {
      "name": "000-colab-setup.ipynb",
      "provenance": [],
      "collapsed_sections": []
    }
  },
  "nbformat": 4,
  "nbformat_minor": 0
}